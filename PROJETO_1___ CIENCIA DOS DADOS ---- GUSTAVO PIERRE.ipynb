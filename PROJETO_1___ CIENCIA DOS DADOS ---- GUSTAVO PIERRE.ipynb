{
 "cells": [
  {
   "cell_type": "markdown",
   "metadata": {},
   "source": [
    "# PROJETO 1 - Ciência dos Dados"
   ]
  },
  {
   "cell_type": "markdown",
   "metadata": {},
   "source": [
    "Eng: 2A     / Nome: Gustavo Veiga Pierre"
   ]
  },
  {
   "cell_type": "markdown",
   "metadata": {},
   "source": [
    "# Introdução:"
   ]
  },
  {
   "cell_type": "markdown",
   "metadata": {},
   "source": [
    "##  IDH, CO2 e Veiculos\n",
    "\n",
    "Foram coletados dois dados do site https://www.gapminder.org/:\n",
    "1. Emissão de CO2 per capita\n",
    "2. IDH dos paises\n",
    "3. Carro, Caminhões e ônibus por 1000 pessoas\n",
    "\n",
    "Nesses *dataframes*, as linhas representam os países, as colunas representam as variaveis escolhidas.\n",
    "\n",
    "No projeto devemos escolher uma pergunta para responder, baseado nos dados coletados.\n",
    "A pergunta escolhida foi:\n",
    "        \n",
    "   **É possivel ressaltar que o numero de veiculos é diretamente proporcional a emissão de CO2 em um pais. Podemos considerar tambem que os paises com maior desenvolvimento tendem a ter mais veiculos. Será que a industrialização de um pais e seu IDH estão ligados?**\n",
    "\n",
    "Vamos nos restringir a analisar o ano de **2007**."
   ]
  },
  {
   "cell_type": "markdown",
   "metadata": {},
   "source": [
    "# Leitura dos arquivos:"
   ]
  },
  {
   "cell_type": "code",
   "execution_count": 96,
   "metadata": {},
   "outputs": [],
   "source": [
    "%matplotlib inline\n",
    "import pandas as pd\n",
    "import numpy as np\n",
    "import math as math\n",
    "from scipy import stats\n",
    "import matplotlib.pyplot as plt\n",
    "import seaborn as sns\n",
    "\n",
    "co2 = pd.read_excel('co2_emissions_tonnes_per_person.xlsx')\n",
    "carros_caminhoes_onibus = pd.read_excel('cars_trucks_and_buses_per_1000_persons.xlsx')\n",
    "HDI = pd.read_excel('hdi_human_development_index.xlsx')"
   ]
  },
  {
   "cell_type": "markdown",
   "metadata": {},
   "source": [
    "# CO2"
   ]
  },
  {
   "cell_type": "code",
   "execution_count": 97,
   "metadata": {},
   "outputs": [],
   "source": [
    "co2_2007 = co2.loc[:, [\"geo\", 2007]]"
   ]
  },
  {
   "cell_type": "code",
   "execution_count": 98,
   "metadata": {},
   "outputs": [
    {
     "data": {
      "text/html": [
       "<div>\n",
       "<style scoped>\n",
       "    .dataframe tbody tr th:only-of-type {\n",
       "        vertical-align: middle;\n",
       "    }\n",
       "\n",
       "    .dataframe tbody tr th {\n",
       "        vertical-align: top;\n",
       "    }\n",
       "\n",
       "    .dataframe thead th {\n",
       "        text-align: right;\n",
       "    }\n",
       "</style>\n",
       "<table border=\"1\" class=\"dataframe\">\n",
       "  <thead>\n",
       "    <tr style=\"text-align: right;\">\n",
       "      <th></th>\n",
       "      <th>geo</th>\n",
       "      <th>2007</th>\n",
       "    </tr>\n",
       "  </thead>\n",
       "  <tbody>\n",
       "    <tr>\n",
       "      <th>0</th>\n",
       "      <td>Afghanistan</td>\n",
       "      <td>0.0854</td>\n",
       "    </tr>\n",
       "    <tr>\n",
       "      <th>1</th>\n",
       "      <td>Albania</td>\n",
       "      <td>1.3000</td>\n",
       "    </tr>\n",
       "    <tr>\n",
       "      <th>2</th>\n",
       "      <td>Algeria</td>\n",
       "      <td>3.1900</td>\n",
       "    </tr>\n",
       "    <tr>\n",
       "      <th>3</th>\n",
       "      <td>Andorra</td>\n",
       "      <td>6.5200</td>\n",
       "    </tr>\n",
       "    <tr>\n",
       "      <th>4</th>\n",
       "      <td>Angola</td>\n",
       "      <td>1.2000</td>\n",
       "    </tr>\n",
       "  </tbody>\n",
       "</table>\n",
       "</div>"
      ],
      "text/plain": [
       "           geo    2007\n",
       "0  Afghanistan  0.0854\n",
       "1      Albania  1.3000\n",
       "2      Algeria  3.1900\n",
       "3      Andorra  6.5200\n",
       "4       Angola  1.2000"
      ]
     },
     "execution_count": 98,
     "metadata": {},
     "output_type": "execute_result"
    }
   ],
   "source": [
    "co2_2007.head()"
   ]
  },
  {
   "cell_type": "markdown",
   "metadata": {},
   "source": [
    "# IDH"
   ]
  },
  {
   "cell_type": "code",
   "execution_count": 99,
   "metadata": {},
   "outputs": [],
   "source": [
    "IDH_2007 = HDI.loc[:, [\"geo\", 2007]]"
   ]
  },
  {
   "cell_type": "code",
   "execution_count": 100,
   "metadata": {},
   "outputs": [
    {
     "data": {
      "text/html": [
       "<div>\n",
       "<style scoped>\n",
       "    .dataframe tbody tr th:only-of-type {\n",
       "        vertical-align: middle;\n",
       "    }\n",
       "\n",
       "    .dataframe tbody tr th {\n",
       "        vertical-align: top;\n",
       "    }\n",
       "\n",
       "    .dataframe thead th {\n",
       "        text-align: right;\n",
       "    }\n",
       "</style>\n",
       "<table border=\"1\" class=\"dataframe\">\n",
       "  <thead>\n",
       "    <tr style=\"text-align: right;\">\n",
       "      <th></th>\n",
       "      <th>geo</th>\n",
       "      <th>2007</th>\n",
       "    </tr>\n",
       "  </thead>\n",
       "  <tbody>\n",
       "    <tr>\n",
       "      <th>0</th>\n",
       "      <td>Afghanistan</td>\n",
       "      <td>0.433</td>\n",
       "    </tr>\n",
       "    <tr>\n",
       "      <th>1</th>\n",
       "      <td>Albania</td>\n",
       "      <td>0.713</td>\n",
       "    </tr>\n",
       "    <tr>\n",
       "      <th>2</th>\n",
       "      <td>Algeria</td>\n",
       "      <td>0.697</td>\n",
       "    </tr>\n",
       "    <tr>\n",
       "      <th>3</th>\n",
       "      <td>Andorra</td>\n",
       "      <td>NaN</td>\n",
       "    </tr>\n",
       "    <tr>\n",
       "      <th>4</th>\n",
       "      <td>Angola</td>\n",
       "      <td>0.468</td>\n",
       "    </tr>\n",
       "  </tbody>\n",
       "</table>\n",
       "</div>"
      ],
      "text/plain": [
       "           geo   2007\n",
       "0  Afghanistan  0.433\n",
       "1      Albania  0.713\n",
       "2      Algeria  0.697\n",
       "3      Andorra    NaN\n",
       "4       Angola  0.468"
      ]
     },
     "execution_count": 100,
     "metadata": {},
     "output_type": "execute_result"
    }
   ],
   "source": [
    "IDH_2007.head()"
   ]
  },
  {
   "cell_type": "markdown",
   "metadata": {},
   "source": [
    "# Veiculos por 1000 pessoas"
   ]
  },
  {
   "cell_type": "code",
   "execution_count": 101,
   "metadata": {},
   "outputs": [],
   "source": [
    "carros_caminhoes_onibus_2007 = carros_caminhoes_onibus.loc[:, [\"geo\", 2007]]"
   ]
  },
  {
   "cell_type": "code",
   "execution_count": 102,
   "metadata": {},
   "outputs": [
    {
     "data": {
      "text/html": [
       "<div>\n",
       "<style scoped>\n",
       "    .dataframe tbody tr th:only-of-type {\n",
       "        vertical-align: middle;\n",
       "    }\n",
       "\n",
       "    .dataframe tbody tr th {\n",
       "        vertical-align: top;\n",
       "    }\n",
       "\n",
       "    .dataframe thead th {\n",
       "        text-align: right;\n",
       "    }\n",
       "</style>\n",
       "<table border=\"1\" class=\"dataframe\">\n",
       "  <thead>\n",
       "    <tr style=\"text-align: right;\">\n",
       "      <th></th>\n",
       "      <th>geo</th>\n",
       "      <th>2007</th>\n",
       "    </tr>\n",
       "  </thead>\n",
       "  <tbody>\n",
       "    <tr>\n",
       "      <th>0</th>\n",
       "      <td>Afghanistan</td>\n",
       "      <td>22.8</td>\n",
       "    </tr>\n",
       "    <tr>\n",
       "      <th>1</th>\n",
       "      <td>Albania</td>\n",
       "      <td>102.0</td>\n",
       "    </tr>\n",
       "    <tr>\n",
       "      <th>2</th>\n",
       "      <td>Algeria</td>\n",
       "      <td>NaN</td>\n",
       "    </tr>\n",
       "    <tr>\n",
       "      <th>3</th>\n",
       "      <td>Angola</td>\n",
       "      <td>39.6</td>\n",
       "    </tr>\n",
       "    <tr>\n",
       "      <th>4</th>\n",
       "      <td>Argentina</td>\n",
       "      <td>314.0</td>\n",
       "    </tr>\n",
       "  </tbody>\n",
       "</table>\n",
       "</div>"
      ],
      "text/plain": [
       "           geo   2007\n",
       "0  Afghanistan   22.8\n",
       "1      Albania  102.0\n",
       "2      Algeria    NaN\n",
       "3       Angola   39.6\n",
       "4    Argentina  314.0"
      ]
     },
     "execution_count": 102,
     "metadata": {},
     "output_type": "execute_result"
    }
   ],
   "source": [
    "carros_caminhoes_onibus_2007.head()"
   ]
  },
  {
   "cell_type": "markdown",
   "metadata": {},
   "source": [
    "# Algumas alterações:"
   ]
  },
  {
   "cell_type": "code",
   "execution_count": 111,
   "metadata": {},
   "outputs": [],
   "source": [
    "co2_2007.rename(columns={\"geo\":\"Country\"},inplace = True)\n",
    "co2_idx = co2_2007.set_index('Country')\n",
    "carros_caminhoes_onibus_2007.rename(columns={\"geo\":\"Country\"},inplace = True)\n",
    "carros_caminhoes_onibus_idx = carros_caminhoes_onibus_2007.set_index('Country')\n",
    "IDH_2007.rename(columns={\"geo\":\"Country\"},inplace = True)\n",
    "IDH_idx = IDH_2007.set_index('Country')\n",
    "\n",
    "co2_2007.rename(columns={'2007':\"CO2 per capita\"},inplace = True)\n",
    "IDH_2007.rename(columns={'2007':\"IDH\"},inplace = True)\n",
    "carros_caminhoes_onibus_2007.rename(columns={'2007':\"Veiculos\"},inplace = True)"
   ]
  },
  {
   "cell_type": "code",
   "execution_count": 112,
   "metadata": {},
   "outputs": [
    {
     "data": {
      "text/html": [
       "<div>\n",
       "<style scoped>\n",
       "    .dataframe tbody tr th:only-of-type {\n",
       "        vertical-align: middle;\n",
       "    }\n",
       "\n",
       "    .dataframe tbody tr th {\n",
       "        vertical-align: top;\n",
       "    }\n",
       "\n",
       "    .dataframe thead th {\n",
       "        text-align: right;\n",
       "    }\n",
       "</style>\n",
       "<table border=\"1\" class=\"dataframe\">\n",
       "  <thead>\n",
       "    <tr style=\"text-align: right;\">\n",
       "      <th></th>\n",
       "      <th>CO2 per capita</th>\n",
       "    </tr>\n",
       "    <tr>\n",
       "      <th>Country</th>\n",
       "      <th></th>\n",
       "    </tr>\n",
       "  </thead>\n",
       "  <tbody>\n",
       "    <tr>\n",
       "      <th>Afghanistan</th>\n",
       "      <td>0.0854</td>\n",
       "    </tr>\n",
       "    <tr>\n",
       "      <th>Albania</th>\n",
       "      <td>1.3000</td>\n",
       "    </tr>\n",
       "    <tr>\n",
       "      <th>Algeria</th>\n",
       "      <td>3.1900</td>\n",
       "    </tr>\n",
       "    <tr>\n",
       "      <th>Andorra</th>\n",
       "      <td>6.5200</td>\n",
       "    </tr>\n",
       "    <tr>\n",
       "      <th>Angola</th>\n",
       "      <td>1.2000</td>\n",
       "    </tr>\n",
       "  </tbody>\n",
       "</table>\n",
       "</div>"
      ],
      "text/plain": [
       "             CO2 per capita\n",
       "Country                    \n",
       "Afghanistan          0.0854\n",
       "Albania              1.3000\n",
       "Algeria              3.1900\n",
       "Andorra              6.5200\n",
       "Angola               1.2000"
      ]
     },
     "execution_count": 112,
     "metadata": {},
     "output_type": "execute_result"
    }
   ],
   "source": [
    "co2_idx.head()"
   ]
  },
  {
   "cell_type": "code",
   "execution_count": 113,
   "metadata": {},
   "outputs": [
    {
     "data": {
      "text/html": [
       "<div>\n",
       "<style scoped>\n",
       "    .dataframe tbody tr th:only-of-type {\n",
       "        vertical-align: middle;\n",
       "    }\n",
       "\n",
       "    .dataframe tbody tr th {\n",
       "        vertical-align: top;\n",
       "    }\n",
       "\n",
       "    .dataframe thead th {\n",
       "        text-align: right;\n",
       "    }\n",
       "</style>\n",
       "<table border=\"1\" class=\"dataframe\">\n",
       "  <thead>\n",
       "    <tr style=\"text-align: right;\">\n",
       "      <th></th>\n",
       "      <th>Veiculos</th>\n",
       "    </tr>\n",
       "    <tr>\n",
       "      <th>Country</th>\n",
       "      <th></th>\n",
       "    </tr>\n",
       "  </thead>\n",
       "  <tbody>\n",
       "    <tr>\n",
       "      <th>Afghanistan</th>\n",
       "      <td>22.8</td>\n",
       "    </tr>\n",
       "    <tr>\n",
       "      <th>Albania</th>\n",
       "      <td>102.0</td>\n",
       "    </tr>\n",
       "    <tr>\n",
       "      <th>Algeria</th>\n",
       "      <td>NaN</td>\n",
       "    </tr>\n",
       "    <tr>\n",
       "      <th>Angola</th>\n",
       "      <td>39.6</td>\n",
       "    </tr>\n",
       "    <tr>\n",
       "      <th>Argentina</th>\n",
       "      <td>314.0</td>\n",
       "    </tr>\n",
       "  </tbody>\n",
       "</table>\n",
       "</div>"
      ],
      "text/plain": [
       "             Veiculos\n",
       "Country              \n",
       "Afghanistan      22.8\n",
       "Albania         102.0\n",
       "Algeria           NaN\n",
       "Angola           39.6\n",
       "Argentina       314.0"
      ]
     },
     "execution_count": 113,
     "metadata": {},
     "output_type": "execute_result"
    }
   ],
   "source": [
    "carros_caminhoes_onibus_idx.head()"
   ]
  },
  {
   "cell_type": "code",
   "execution_count": 114,
   "metadata": {},
   "outputs": [
    {
     "data": {
      "text/html": [
       "<div>\n",
       "<style scoped>\n",
       "    .dataframe tbody tr th:only-of-type {\n",
       "        vertical-align: middle;\n",
       "    }\n",
       "\n",
       "    .dataframe tbody tr th {\n",
       "        vertical-align: top;\n",
       "    }\n",
       "\n",
       "    .dataframe thead th {\n",
       "        text-align: right;\n",
       "    }\n",
       "</style>\n",
       "<table border=\"1\" class=\"dataframe\">\n",
       "  <thead>\n",
       "    <tr style=\"text-align: right;\">\n",
       "      <th></th>\n",
       "      <th>IDH</th>\n",
       "    </tr>\n",
       "    <tr>\n",
       "      <th>Country</th>\n",
       "      <th></th>\n",
       "    </tr>\n",
       "  </thead>\n",
       "  <tbody>\n",
       "    <tr>\n",
       "      <th>Afghanistan</th>\n",
       "      <td>0.433</td>\n",
       "    </tr>\n",
       "    <tr>\n",
       "      <th>Albania</th>\n",
       "      <td>0.713</td>\n",
       "    </tr>\n",
       "    <tr>\n",
       "      <th>Algeria</th>\n",
       "      <td>0.697</td>\n",
       "    </tr>\n",
       "    <tr>\n",
       "      <th>Andorra</th>\n",
       "      <td>NaN</td>\n",
       "    </tr>\n",
       "    <tr>\n",
       "      <th>Angola</th>\n",
       "      <td>0.468</td>\n",
       "    </tr>\n",
       "  </tbody>\n",
       "</table>\n",
       "</div>"
      ],
      "text/plain": [
       "               IDH\n",
       "Country           \n",
       "Afghanistan  0.433\n",
       "Albania      0.713\n",
       "Algeria      0.697\n",
       "Andorra        NaN\n",
       "Angola       0.468"
      ]
     },
     "execution_count": 114,
     "metadata": {},
     "output_type": "execute_result"
    }
   ],
   "source": [
    "IDH_idx.head()"
   ]
  },
  {
   "cell_type": "markdown",
   "metadata": {},
   "source": [
    "# Juntando as tabelas:"
   ]
  },
  {
   "cell_type": "code",
   "execution_count": 115,
   "metadata": {},
   "outputs": [
    {
     "data": {
      "text/html": [
       "<div>\n",
       "<style scoped>\n",
       "    .dataframe tbody tr th:only-of-type {\n",
       "        vertical-align: middle;\n",
       "    }\n",
       "\n",
       "    .dataframe tbody tr th {\n",
       "        vertical-align: top;\n",
       "    }\n",
       "\n",
       "    .dataframe thead th {\n",
       "        text-align: right;\n",
       "    }\n",
       "</style>\n",
       "<table border=\"1\" class=\"dataframe\">\n",
       "  <thead>\n",
       "    <tr style=\"text-align: right;\">\n",
       "      <th></th>\n",
       "      <th>CO2 per capita</th>\n",
       "      <th>IDH</th>\n",
       "    </tr>\n",
       "    <tr>\n",
       "      <th>Country</th>\n",
       "      <th></th>\n",
       "      <th></th>\n",
       "    </tr>\n",
       "  </thead>\n",
       "  <tbody>\n",
       "    <tr>\n",
       "      <th>Afghanistan</th>\n",
       "      <td>0.0854</td>\n",
       "      <td>0.433</td>\n",
       "    </tr>\n",
       "    <tr>\n",
       "      <th>Albania</th>\n",
       "      <td>1.3000</td>\n",
       "      <td>0.713</td>\n",
       "    </tr>\n",
       "    <tr>\n",
       "      <th>Algeria</th>\n",
       "      <td>3.1900</td>\n",
       "      <td>0.697</td>\n",
       "    </tr>\n",
       "    <tr>\n",
       "      <th>Andorra</th>\n",
       "      <td>6.5200</td>\n",
       "      <td>NaN</td>\n",
       "    </tr>\n",
       "    <tr>\n",
       "      <th>Angola</th>\n",
       "      <td>1.2000</td>\n",
       "      <td>0.468</td>\n",
       "    </tr>\n",
       "  </tbody>\n",
       "</table>\n",
       "</div>"
      ],
      "text/plain": [
       "             CO2 per capita    IDH\n",
       "Country                           \n",
       "Afghanistan          0.0854  0.433\n",
       "Albania              1.3000  0.713\n",
       "Algeria              3.1900  0.697\n",
       "Andorra              6.5200    NaN\n",
       "Angola               1.2000  0.468"
      ]
     },
     "execution_count": 115,
     "metadata": {},
     "output_type": "execute_result"
    }
   ],
   "source": [
    "df = co2_idx.join(IDH_idx, how='inner',lsuffix='_2007', rsuffix='_2007')\n",
    "df.head()"
   ]
  },
  {
   "cell_type": "code",
   "execution_count": 116,
   "metadata": {},
   "outputs": [
    {
     "data": {
      "text/html": [
       "<div>\n",
       "<style scoped>\n",
       "    .dataframe tbody tr th:only-of-type {\n",
       "        vertical-align: middle;\n",
       "    }\n",
       "\n",
       "    .dataframe tbody tr th {\n",
       "        vertical-align: top;\n",
       "    }\n",
       "\n",
       "    .dataframe thead th {\n",
       "        text-align: right;\n",
       "    }\n",
       "</style>\n",
       "<table border=\"1\" class=\"dataframe\">\n",
       "  <thead>\n",
       "    <tr style=\"text-align: right;\">\n",
       "      <th></th>\n",
       "      <th>CO2 per capita</th>\n",
       "      <th>IDH</th>\n",
       "      <th>Veiculos</th>\n",
       "    </tr>\n",
       "    <tr>\n",
       "      <th>Country</th>\n",
       "      <th></th>\n",
       "      <th></th>\n",
       "      <th></th>\n",
       "    </tr>\n",
       "  </thead>\n",
       "  <tbody>\n",
       "    <tr>\n",
       "      <th>Afghanistan</th>\n",
       "      <td>0.0854</td>\n",
       "      <td>0.433</td>\n",
       "      <td>22.8</td>\n",
       "    </tr>\n",
       "    <tr>\n",
       "      <th>Albania</th>\n",
       "      <td>1.3000</td>\n",
       "      <td>0.713</td>\n",
       "      <td>102.0</td>\n",
       "    </tr>\n",
       "    <tr>\n",
       "      <th>Algeria</th>\n",
       "      <td>3.1900</td>\n",
       "      <td>0.697</td>\n",
       "      <td>NaN</td>\n",
       "    </tr>\n",
       "    <tr>\n",
       "      <th>Angola</th>\n",
       "      <td>1.2000</td>\n",
       "      <td>0.468</td>\n",
       "      <td>39.6</td>\n",
       "    </tr>\n",
       "    <tr>\n",
       "      <th>Argentina</th>\n",
       "      <td>4.3800</td>\n",
       "      <td>0.792</td>\n",
       "      <td>314.0</td>\n",
       "    </tr>\n",
       "  </tbody>\n",
       "</table>\n",
       "</div>"
      ],
      "text/plain": [
       "             CO2 per capita    IDH  Veiculos\n",
       "Country                                     \n",
       "Afghanistan          0.0854  0.433      22.8\n",
       "Albania              1.3000  0.713     102.0\n",
       "Algeria              3.1900  0.697       NaN\n",
       "Angola               1.2000  0.468      39.6\n",
       "Argentina            4.3800  0.792     314.0"
      ]
     },
     "execution_count": 116,
     "metadata": {},
     "output_type": "execute_result"
    }
   ],
   "source": [
    "data = df.join(carros_caminhoes_onibus_idx, how=\"inner\")\n",
    "data.head()"
   ]
  },
  {
   "cell_type": "code",
   "execution_count": 117,
   "metadata": {},
   "outputs": [
    {
     "data": {
      "text/html": [
       "<div>\n",
       "<style scoped>\n",
       "    .dataframe tbody tr th:only-of-type {\n",
       "        vertical-align: middle;\n",
       "    }\n",
       "\n",
       "    .dataframe tbody tr th {\n",
       "        vertical-align: top;\n",
       "    }\n",
       "\n",
       "    .dataframe thead th {\n",
       "        text-align: right;\n",
       "    }\n",
       "</style>\n",
       "<table border=\"1\" class=\"dataframe\">\n",
       "  <thead>\n",
       "    <tr style=\"text-align: right;\">\n",
       "      <th></th>\n",
       "      <th>CO2 per capita</th>\n",
       "      <th>IDH</th>\n",
       "      <th>Veiculos</th>\n",
       "    </tr>\n",
       "    <tr>\n",
       "      <th>Country</th>\n",
       "      <th></th>\n",
       "      <th></th>\n",
       "      <th></th>\n",
       "    </tr>\n",
       "  </thead>\n",
       "  <tbody>\n",
       "    <tr>\n",
       "      <th>Afghanistan</th>\n",
       "      <td>0.0854</td>\n",
       "      <td>0.433</td>\n",
       "      <td>22.800</td>\n",
       "    </tr>\n",
       "    <tr>\n",
       "      <th>Albania</th>\n",
       "      <td>1.3000</td>\n",
       "      <td>0.713</td>\n",
       "      <td>102.000</td>\n",
       "    </tr>\n",
       "    <tr>\n",
       "      <th>Angola</th>\n",
       "      <td>1.2000</td>\n",
       "      <td>0.468</td>\n",
       "      <td>39.600</td>\n",
       "    </tr>\n",
       "    <tr>\n",
       "      <th>Argentina</th>\n",
       "      <td>4.3800</td>\n",
       "      <td>0.792</td>\n",
       "      <td>314.000</td>\n",
       "    </tr>\n",
       "    <tr>\n",
       "      <th>Armenia</th>\n",
       "      <td>1.7300</td>\n",
       "      <td>0.721</td>\n",
       "      <td>105.000</td>\n",
       "    </tr>\n",
       "    <tr>\n",
       "      <th>Australia</th>\n",
       "      <td>17.8000</td>\n",
       "      <td>0.921</td>\n",
       "      <td>653.000</td>\n",
       "    </tr>\n",
       "    <tr>\n",
       "      <th>Austria</th>\n",
       "      <td>8.3900</td>\n",
       "      <td>0.864</td>\n",
       "      <td>557.000</td>\n",
       "    </tr>\n",
       "    <tr>\n",
       "      <th>Bahamas</th>\n",
       "      <td>4.9400</td>\n",
       "      <td>0.791</td>\n",
       "      <td>81.700</td>\n",
       "    </tr>\n",
       "    <tr>\n",
       "      <th>Bahrain</th>\n",
       "      <td>25.9000</td>\n",
       "      <td>0.815</td>\n",
       "      <td>482.000</td>\n",
       "    </tr>\n",
       "    <tr>\n",
       "      <th>Bangladesh</th>\n",
       "      <td>0.3020</td>\n",
       "      <td>0.520</td>\n",
       "      <td>2.260</td>\n",
       "    </tr>\n",
       "    <tr>\n",
       "      <th>Barbados</th>\n",
       "      <td>4.9400</td>\n",
       "      <td>0.775</td>\n",
       "      <td>406.000</td>\n",
       "    </tr>\n",
       "    <tr>\n",
       "      <th>Belarus</th>\n",
       "      <td>6.3500</td>\n",
       "      <td>0.755</td>\n",
       "      <td>282.000</td>\n",
       "    </tr>\n",
       "    <tr>\n",
       "      <th>Belgium</th>\n",
       "      <td>9.6800</td>\n",
       "      <td>0.874</td>\n",
       "      <td>539.000</td>\n",
       "    </tr>\n",
       "    <tr>\n",
       "      <th>Belize</th>\n",
       "      <td>1.6000</td>\n",
       "      <td>0.699</td>\n",
       "      <td>178.000</td>\n",
       "    </tr>\n",
       "    <tr>\n",
       "      <th>Benin</th>\n",
       "      <td>0.5320</td>\n",
       "      <td>0.444</td>\n",
       "      <td>20.600</td>\n",
       "    </tr>\n",
       "    <tr>\n",
       "      <th>Bolivia</th>\n",
       "      <td>1.3100</td>\n",
       "      <td>0.632</td>\n",
       "      <td>68.400</td>\n",
       "    </tr>\n",
       "    <tr>\n",
       "      <th>Bosnia and Herzegovina</th>\n",
       "      <td>4.6800</td>\n",
       "      <td>0.710</td>\n",
       "      <td>170.000</td>\n",
       "    </tr>\n",
       "    <tr>\n",
       "      <th>Botswana</th>\n",
       "      <td>2.2100</td>\n",
       "      <td>0.646</td>\n",
       "      <td>114.000</td>\n",
       "    </tr>\n",
       "    <tr>\n",
       "      <th>Brazil</th>\n",
       "      <td>1.9000</td>\n",
       "      <td>0.704</td>\n",
       "      <td>198.000</td>\n",
       "    </tr>\n",
       "    <tr>\n",
       "      <th>Brunei</th>\n",
       "      <td>22.5000</td>\n",
       "      <td>0.840</td>\n",
       "      <td>696.000</td>\n",
       "    </tr>\n",
       "    <tr>\n",
       "      <th>Bulgaria</th>\n",
       "      <td>6.9100</td>\n",
       "      <td>0.761</td>\n",
       "      <td>295.000</td>\n",
       "    </tr>\n",
       "    <tr>\n",
       "      <th>Burkina Faso</th>\n",
       "      <td>0.1160</td>\n",
       "      <td>0.345</td>\n",
       "      <td>10.800</td>\n",
       "    </tr>\n",
       "    <tr>\n",
       "      <th>Burundi</th>\n",
       "      <td>0.0236</td>\n",
       "      <td>0.319</td>\n",
       "      <td>5.670</td>\n",
       "    </tr>\n",
       "    <tr>\n",
       "      <th>Canada</th>\n",
       "      <td>16.8000</td>\n",
       "      <td>0.897</td>\n",
       "      <td>597.000</td>\n",
       "    </tr>\n",
       "    <tr>\n",
       "      <th>Cape Verde</th>\n",
       "      <td>1.0400</td>\n",
       "      <td>0.615</td>\n",
       "      <td>94.000</td>\n",
       "    </tr>\n",
       "    <tr>\n",
       "      <th>Central African Republic</th>\n",
       "      <td>0.0592</td>\n",
       "      <td>0.338</td>\n",
       "      <td>0.295</td>\n",
       "    </tr>\n",
       "    <tr>\n",
       "      <th>Chile</th>\n",
       "      <td>4.3400</td>\n",
       "      <td>0.804</td>\n",
       "      <td>164.000</td>\n",
       "    </tr>\n",
       "    <tr>\n",
       "      <th>China</th>\n",
       "      <td>5.2600</td>\n",
       "      <td>0.672</td>\n",
       "      <td>32.200</td>\n",
       "    </tr>\n",
       "    <tr>\n",
       "      <th>Colombia</th>\n",
       "      <td>1.4100</td>\n",
       "      <td>0.683</td>\n",
       "      <td>65.600</td>\n",
       "    </tr>\n",
       "    <tr>\n",
       "      <th>Comoros</th>\n",
       "      <td>0.1600</td>\n",
       "      <td>0.461</td>\n",
       "      <td>33.500</td>\n",
       "    </tr>\n",
       "    <tr>\n",
       "      <th>...</th>\n",
       "      <td>...</td>\n",
       "      <td>...</td>\n",
       "      <td>...</td>\n",
       "    </tr>\n",
       "    <tr>\n",
       "      <th>Sierra Leone</th>\n",
       "      <td>0.1070</td>\n",
       "      <td>0.367</td>\n",
       "      <td>5.210</td>\n",
       "    </tr>\n",
       "    <tr>\n",
       "      <th>Singapore</th>\n",
       "      <td>4.2100</td>\n",
       "      <td>0.880</td>\n",
       "      <td>149.000</td>\n",
       "    </tr>\n",
       "    <tr>\n",
       "      <th>Slovak Republic</th>\n",
       "      <td>6.8100</td>\n",
       "      <td>0.813</td>\n",
       "      <td>282.000</td>\n",
       "    </tr>\n",
       "    <tr>\n",
       "      <th>Slovenia</th>\n",
       "      <td>8.0700</td>\n",
       "      <td>0.869</td>\n",
       "      <td>547.000</td>\n",
       "    </tr>\n",
       "    <tr>\n",
       "      <th>South Africa</th>\n",
       "      <td>9.3500</td>\n",
       "      <td>0.616</td>\n",
       "      <td>159.000</td>\n",
       "    </tr>\n",
       "    <tr>\n",
       "      <th>South Korea</th>\n",
       "      <td>10.1000</td>\n",
       "      <td>0.873</td>\n",
       "      <td>338.000</td>\n",
       "    </tr>\n",
       "    <tr>\n",
       "      <th>Spain</th>\n",
       "      <td>7.8900</td>\n",
       "      <td>0.854</td>\n",
       "      <td>601.000</td>\n",
       "    </tr>\n",
       "    <tr>\n",
       "      <th>Sri Lanka</th>\n",
       "      <td>0.6240</td>\n",
       "      <td>0.731</td>\n",
       "      <td>57.900</td>\n",
       "    </tr>\n",
       "    <tr>\n",
       "      <th>St. Vincent and the Grenadines</th>\n",
       "      <td>2.0800</td>\n",
       "      <td>0.704</td>\n",
       "      <td>204.000</td>\n",
       "    </tr>\n",
       "    <tr>\n",
       "      <th>Sudan</th>\n",
       "      <td>0.4380</td>\n",
       "      <td>0.444</td>\n",
       "      <td>28.000</td>\n",
       "    </tr>\n",
       "    <tr>\n",
       "      <th>Swaziland</th>\n",
       "      <td>0.9340</td>\n",
       "      <td>0.514</td>\n",
       "      <td>89.000</td>\n",
       "    </tr>\n",
       "    <tr>\n",
       "      <th>Sweden</th>\n",
       "      <td>5.2400</td>\n",
       "      <td>0.897</td>\n",
       "      <td>523.000</td>\n",
       "    </tr>\n",
       "    <tr>\n",
       "      <th>Switzerland</th>\n",
       "      <td>5.0200</td>\n",
       "      <td>0.914</td>\n",
       "      <td>569.000</td>\n",
       "    </tr>\n",
       "    <tr>\n",
       "      <th>Syria</th>\n",
       "      <td>3.3900</td>\n",
       "      <td>0.651</td>\n",
       "      <td>51.500</td>\n",
       "    </tr>\n",
       "    <tr>\n",
       "      <th>Tajikistan</th>\n",
       "      <td>0.4520</td>\n",
       "      <td>0.592</td>\n",
       "      <td>38.200</td>\n",
       "    </tr>\n",
       "    <tr>\n",
       "      <th>Tanzania</th>\n",
       "      <td>0.1410</td>\n",
       "      <td>0.468</td>\n",
       "      <td>11.700</td>\n",
       "    </tr>\n",
       "    <tr>\n",
       "      <th>Togo</th>\n",
       "      <td>0.2350</td>\n",
       "      <td>0.441</td>\n",
       "      <td>1.980</td>\n",
       "    </tr>\n",
       "    <tr>\n",
       "      <th>Trinidad and Tobago</th>\n",
       "      <td>34.7000</td>\n",
       "      <td>0.767</td>\n",
       "      <td>351.000</td>\n",
       "    </tr>\n",
       "    <tr>\n",
       "      <th>Tunisia</th>\n",
       "      <td>2.3400</td>\n",
       "      <td>0.701</td>\n",
       "      <td>103.000</td>\n",
       "    </tr>\n",
       "    <tr>\n",
       "      <th>Turkey</th>\n",
       "      <td>4.0900</td>\n",
       "      <td>0.705</td>\n",
       "      <td>131.000</td>\n",
       "    </tr>\n",
       "    <tr>\n",
       "      <th>Uganda</th>\n",
       "      <td>0.0945</td>\n",
       "      <td>0.453</td>\n",
       "      <td>6.500</td>\n",
       "    </tr>\n",
       "    <tr>\n",
       "      <th>Ukraine</th>\n",
       "      <td>6.9300</td>\n",
       "      <td>0.730</td>\n",
       "      <td>140.000</td>\n",
       "    </tr>\n",
       "    <tr>\n",
       "      <th>United Arab Emirates</th>\n",
       "      <td>22.4000</td>\n",
       "      <td>0.829</td>\n",
       "      <td>313.000</td>\n",
       "    </tr>\n",
       "    <tr>\n",
       "      <th>United Kingdom</th>\n",
       "      <td>8.6000</td>\n",
       "      <td>0.892</td>\n",
       "      <td>527.000</td>\n",
       "    </tr>\n",
       "    <tr>\n",
       "      <th>United States</th>\n",
       "      <td>19.3000</td>\n",
       "      <td>0.905</td>\n",
       "      <td>820.000</td>\n",
       "    </tr>\n",
       "    <tr>\n",
       "      <th>Venezuela</th>\n",
       "      <td>5.8100</td>\n",
       "      <td>0.745</td>\n",
       "      <td>147.000</td>\n",
       "    </tr>\n",
       "    <tr>\n",
       "      <th>Vietnam</th>\n",
       "      <td>1.2200</td>\n",
       "      <td>0.633</td>\n",
       "      <td>13.500</td>\n",
       "    </tr>\n",
       "    <tr>\n",
       "      <th>Yemen</th>\n",
       "      <td>0.9640</td>\n",
       "      <td>0.480</td>\n",
       "      <td>34.800</td>\n",
       "    </tr>\n",
       "    <tr>\n",
       "      <th>Zambia</th>\n",
       "      <td>0.1520</td>\n",
       "      <td>0.504</td>\n",
       "      <td>17.700</td>\n",
       "    </tr>\n",
       "    <tr>\n",
       "      <th>Zimbabwe</th>\n",
       "      <td>0.7420</td>\n",
       "      <td>0.421</td>\n",
       "      <td>106.000</td>\n",
       "    </tr>\n",
       "  </tbody>\n",
       "</table>\n",
       "<p>142 rows × 3 columns</p>\n",
       "</div>"
      ],
      "text/plain": [
       "                                CO2 per capita    IDH  Veiculos\n",
       "Country                                                        \n",
       "Afghanistan                             0.0854  0.433    22.800\n",
       "Albania                                 1.3000  0.713   102.000\n",
       "Angola                                  1.2000  0.468    39.600\n",
       "Argentina                               4.3800  0.792   314.000\n",
       "Armenia                                 1.7300  0.721   105.000\n",
       "Australia                              17.8000  0.921   653.000\n",
       "Austria                                 8.3900  0.864   557.000\n",
       "Bahamas                                 4.9400  0.791    81.700\n",
       "Bahrain                                25.9000  0.815   482.000\n",
       "Bangladesh                              0.3020  0.520     2.260\n",
       "Barbados                                4.9400  0.775   406.000\n",
       "Belarus                                 6.3500  0.755   282.000\n",
       "Belgium                                 9.6800  0.874   539.000\n",
       "Belize                                  1.6000  0.699   178.000\n",
       "Benin                                   0.5320  0.444    20.600\n",
       "Bolivia                                 1.3100  0.632    68.400\n",
       "Bosnia and Herzegovina                  4.6800  0.710   170.000\n",
       "Botswana                                2.2100  0.646   114.000\n",
       "Brazil                                  1.9000  0.704   198.000\n",
       "Brunei                                 22.5000  0.840   696.000\n",
       "Bulgaria                                6.9100  0.761   295.000\n",
       "Burkina Faso                            0.1160  0.345    10.800\n",
       "Burundi                                 0.0236  0.319     5.670\n",
       "Canada                                 16.8000  0.897   597.000\n",
       "Cape Verde                              1.0400  0.615    94.000\n",
       "Central African Republic                0.0592  0.338     0.295\n",
       "Chile                                   4.3400  0.804   164.000\n",
       "China                                   5.2600  0.672    32.200\n",
       "Colombia                                1.4100  0.683    65.600\n",
       "Comoros                                 0.1600  0.461    33.500\n",
       "...                                        ...    ...       ...\n",
       "Sierra Leone                            0.1070  0.367     5.210\n",
       "Singapore                               4.2100  0.880   149.000\n",
       "Slovak Republic                         6.8100  0.813   282.000\n",
       "Slovenia                                8.0700  0.869   547.000\n",
       "South Africa                            9.3500  0.616   159.000\n",
       "South Korea                            10.1000  0.873   338.000\n",
       "Spain                                   7.8900  0.854   601.000\n",
       "Sri Lanka                               0.6240  0.731    57.900\n",
       "St. Vincent and the Grenadines          2.0800  0.704   204.000\n",
       "Sudan                                   0.4380  0.444    28.000\n",
       "Swaziland                               0.9340  0.514    89.000\n",
       "Sweden                                  5.2400  0.897   523.000\n",
       "Switzerland                             5.0200  0.914   569.000\n",
       "Syria                                   3.3900  0.651    51.500\n",
       "Tajikistan                              0.4520  0.592    38.200\n",
       "Tanzania                                0.1410  0.468    11.700\n",
       "Togo                                    0.2350  0.441     1.980\n",
       "Trinidad and Tobago                    34.7000  0.767   351.000\n",
       "Tunisia                                 2.3400  0.701   103.000\n",
       "Turkey                                  4.0900  0.705   131.000\n",
       "Uganda                                  0.0945  0.453     6.500\n",
       "Ukraine                                 6.9300  0.730   140.000\n",
       "United Arab Emirates                   22.4000  0.829   313.000\n",
       "United Kingdom                          8.6000  0.892   527.000\n",
       "United States                          19.3000  0.905   820.000\n",
       "Venezuela                               5.8100  0.745   147.000\n",
       "Vietnam                                 1.2200  0.633    13.500\n",
       "Yemen                                   0.9640  0.480    34.800\n",
       "Zambia                                  0.1520  0.504    17.700\n",
       "Zimbabwe                                0.7420  0.421   106.000\n",
       "\n",
       "[142 rows x 3 columns]"
      ]
     },
     "execution_count": 117,
     "metadata": {},
     "output_type": "execute_result"
    }
   ],
   "source": [
    "data.dropna()"
   ]
  },
  {
   "cell_type": "markdown",
   "metadata": {},
   "source": [
    "# Plotando gráficos:"
   ]
  },
  {
   "cell_type": "code",
   "execution_count": 118,
   "metadata": {},
   "outputs": [
    {
     "data": {
      "text/plain": [
       "Text(0.5,1,'IDH vs Co2 per capita')"
      ]
     },
     "execution_count": 118,
     "metadata": {},
     "output_type": "execute_result"
    },
    {
     "data": {
      "image/png": "[encoded data removed]",
      "text/plain": [
       "<matplotlib.figure.Figure at 0x1d4595824a8>"
      ]
     },
     "metadata": {},
     "output_type": "display_data"
    }
   ],
   "source": [
    "data.plot.scatter(x=\"CO2 per capita\", y=\"IDH\")\n",
    "plt.title(\"IDH vs Co2 per capita\")"
   ]
  },
  {
   "cell_type": "code",
   "execution_count": 119,
   "metadata": {},
   "outputs": [],
   "source": [
    "data[\"log co2 per capita\"] = np.log(data[\"CO2 per capita\"])"
   ]
  },
  {
   "cell_type": "code",
   "execution_count": 120,
   "metadata": {},
   "outputs": [
    {
     "data": {
      "image/png": "[encoded data removed]",
      "text/plain": [
       "<matplotlib.figure.Figure at 0x1d45a8fdb00>"
      ]
     },
     "metadata": {},
     "output_type": "display_data"
    }
   ],
   "source": [
    "data.plot.scatter(x=\"log co2 per capita\", y=\"IDH\");\n",
    "sns.regplot(data['log co2 per capita'], data['IDH']);"
   ]
  },
  {
   "cell_type": "code",
   "execution_count": 121,
   "metadata": {},
   "outputs": [
    {
     "data": {
      "image/png": "[encoded data removed]",
      "text/plain": [
       "<matplotlib.figure.Figure at 0x1d459623390>"
      ]
     },
     "metadata": {},
     "output_type": "display_data"
    }
   ],
   "source": [
    "data.plot.scatter(x=\"Veiculos\", y=\"IDH\",logx=True);\n",
    "plt.title(\"IDH vs Veiculos a cada 1000 pessoas\");\n"
   ]
  },
  {
   "cell_type": "code",
   "execution_count": 122,
   "metadata": {},
   "outputs": [
    {
     "data": {
      "image/png": "[encoded data removed]",
      "text/plain": [
       "<matplotlib.figure.Figure at 0x1d4595e6908>"
      ]
     },
     "metadata": {},
     "output_type": "display_data"
    }
   ],
   "source": [
    "data.plot.scatter(x=\"Veiculos\", y=\"CO2 per capita\");\n",
    "plt.title(\"CO2 per capita vs Veiculos a cada 1000 pessoas\");\n",
    "sns.regplot(data['Veiculos'], data['CO2 per capita']);"
   ]
  },
  {
   "cell_type": "code",
   "execution_count": 123,
   "metadata": {},
   "outputs": [
    {
     "data": {
      "image/png": "[encoded data removed]",
      "text/plain": [
       "<matplotlib.figure.Figure at 0x1d45912dcc0>"
      ]
     },
     "metadata": {},
     "output_type": "display_data"
    }
   ],
   "source": [
    "plt.hist(data['CO2 per capita']);\n",
    "plt.xlabel(\"CO2 per capita em toneladas\");\n",
    "plt.ylabel(\"Número de paises\");"
   ]
  },
  {
   "cell_type": "markdown",
   "metadata": {},
   "source": [
    "Neste histograma podemos perceber facilmente a assimetria do mesmo. Fica claro a existência de outliers."
   ]
  },
  {
   "cell_type": "code",
   "execution_count": 124,
   "metadata": {},
   "outputs": [
    {
     "data": {
      "image/png": "[encoded data removed]",
      "text/plain": [
       "<matplotlib.figure.Figure at 0x1d45914c978>"
      ]
     },
     "metadata": {},
     "output_type": "display_data"
    }
   ],
   "source": [
    "data.boxplot(column=['CO2 per capita']);"
   ]
  },
  {
   "cell_type": "markdown",
   "metadata": {},
   "source": [
    "Nesse boxplot podemos perceber a quantidade de outliers que aumentam a média de CO2 emitido. O ponto mais ao alto é o Catar. Este pais tem essa alta emissão de CO2, pois é um pais petrolifero. Assim como Emirados Arabes e Kuwait que tambem são outliers, pois são paises petroliferos."
   ]
  },
  {
   "cell_type": "markdown",
   "metadata": {},
   "source": [
    "# Correlação"
   ]
  },
  {
   "cell_type": "code",
   "execution_count": 125,
   "metadata": {},
   "outputs": [
    {
     "data": {
      "text/html": [
       "<div>\n",
       "<style scoped>\n",
       "    .dataframe tbody tr th:only-of-type {\n",
       "        vertical-align: middle;\n",
       "    }\n",
       "\n",
       "    .dataframe tbody tr th {\n",
       "        vertical-align: top;\n",
       "    }\n",
       "\n",
       "    .dataframe thead th {\n",
       "        text-align: right;\n",
       "    }\n",
       "</style>\n",
       "<table border=\"1\" class=\"dataframe\">\n",
       "  <thead>\n",
       "    <tr style=\"text-align: right;\">\n",
       "      <th></th>\n",
       "      <th>CO2 per capita</th>\n",
       "      <th>IDH</th>\n",
       "      <th>Veiculos</th>\n",
       "      <th>log co2 per capita</th>\n",
       "    </tr>\n",
       "  </thead>\n",
       "  <tbody>\n",
       "    <tr>\n",
       "      <th>CO2 per capita</th>\n",
       "      <td>1.000000</td>\n",
       "      <td>0.565357</td>\n",
       "      <td>0.662093</td>\n",
       "      <td>0.713259</td>\n",
       "    </tr>\n",
       "    <tr>\n",
       "      <th>IDH</th>\n",
       "      <td>0.565357</td>\n",
       "      <td>1.000000</td>\n",
       "      <td>0.806240</td>\n",
       "      <td>0.909409</td>\n",
       "    </tr>\n",
       "    <tr>\n",
       "      <th>Veiculos</th>\n",
       "      <td>0.662093</td>\n",
       "      <td>0.806240</td>\n",
       "      <td>1.000000</td>\n",
       "      <td>0.738348</td>\n",
       "    </tr>\n",
       "    <tr>\n",
       "      <th>log co2 per capita</th>\n",
       "      <td>0.713259</td>\n",
       "      <td>0.909409</td>\n",
       "      <td>0.738348</td>\n",
       "      <td>1.000000</td>\n",
       "    </tr>\n",
       "  </tbody>\n",
       "</table>\n",
       "</div>"
      ],
      "text/plain": [
       "                    CO2 per capita       IDH  Veiculos  log co2 per capita\n",
       "CO2 per capita            1.000000  0.565357  0.662093            0.713259\n",
       "IDH                       0.565357  1.000000  0.806240            0.909409\n",
       "Veiculos                  0.662093  0.806240  1.000000            0.738348\n",
       "log co2 per capita        0.713259  0.909409  0.738348            1.000000"
      ]
     },
     "execution_count": 125,
     "metadata": {},
     "output_type": "execute_result"
    }
   ],
   "source": [
    "data.corr()"
   ]
  },
  {
   "cell_type": "markdown",
   "metadata": {},
   "source": [
    "# Conclusão"
   ]
  },
  {
   "cell_type": "markdown",
   "metadata": {},
   "source": [
    "Eu acho que a questão de poluentes é muito abordada hoje em dia, pois todos tentamos ser mais sustentavéis para proteger nosso planeta. Portanto, resolvi investigar a relação do IDH com a emissão de CO2 e Veiculos por 1000 pessoas. Minha expectativa era que quanto maior o IDH mais veiculos e mais CO2 emitido. Segundo os dados levantados e os gráficos exibidos, podemos perceber uma grande correlação entre o Log do CO2 per capita e o IDH de um pais,pois o coeficiente de Pearson é alto e o gráfico de dispersão é coerente. Assim, podemos imaginar que quanto maior o IDH de um pais, mais ele é industrializado, logo ele emitirá mais CO2 per capita.Também é possivel notar a relação entre IDH e Veiculos por 1000 pessoas, onde paises com IDH maior e consequentemente uma qualidade de vida melhor, existem mais carros. Para concluir é possivel perceber que os dados estão relacionados, quanto mais um pais é desenvolvido, existem mais veiculos e assim ele é mais poluente, com a grande emissao de CO2. Para analises futuras podemos relacionar também o número de pessoas doentes por causa do reflexo da poluição do ar, e assim, estudarmos o efeito negativo que essa poluição causa na população."
   ]
  }
 ],
 "metadata": {
  "kernelspec": {
   "display_name": "Python 3",
   "language": "python",
   "name": "python3"
  },
  "language_info": {
   "codemirror_mode": {
    "name": "ipython",
    "version": 3
   },
   "file_extension": ".py",
   "mimetype": "text/x-python",
   "name": "python",
   "nbconvert_exporter": "python",
   "pygments_lexer": "ipython3",
   "version": "3.6.4"
  }
 },
 "nbformat": 4,
 "nbformat_minor": 2
}
